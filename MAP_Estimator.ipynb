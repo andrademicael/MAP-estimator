{
 "cells": [
  {
   "cell_type": "markdown",
   "id": "afef6f4f",
   "metadata": {},
   "source": [
    "# MAP estimator for $m$-QAM constellations\n",
    "\n",
    "In the problem of maximum a posteriori (MAP) estimation for digital communication over Gaussian channels, $X$ is a discrete random variable with alphabet $\\{x_1,x_2,\\ldots,x_M\\}$, $x\\in\\mathbb{C}$ in general (the constellation), and respective probabilities $\\{p_1,p_2,\\ldots,p_M\\}$, and $Y$ is a continuous random variablem of a channel observation. The detector must decide which symbol was sent given the observation $Y$, and a MAP estimator must perform the following optimization:\n",
    "\n",
    "$\\hat{x}_i = \\arg\\max_{x_i} f_{X|Y}(x_i|y)$,\n",
    "\n",
    "that is, finding the argument $x_i$ that maximizes the probability $f_{X|Y}$, given an outcome $y$. The result, $\\hat{x}_i$, is the detector output.\n",
    "\n",
    "In a general manner, the constellation symbols are complex valued, $x_i\\in\\mathbb{C}$, so are the observations $Y$. By considering the additive channel model $Y = X + Z$, where $Z$ is a realization of a complex Gaussian random variable with zero mean and variance $\\sigma^2 = N_0/2$ per quadrature independent of $X$, the conditional density is\n",
    "\n",
    "$f_{Y|X}(y|x_i) = \\frac{1}{\\pi N_0}e^{-\\frac{|y-x_i|^2}{N_0}}$.\n",
    "\n",
    "Using Baye's rule, one has that $f(x_i|y) = f(y|x_i)p(x_i)/p(y)$, where $p(y) = \\sum_if(y|x_i)$. Once $p(y)$ does not depends on $x_i$, the MAP estimator can be reestated as:\n",
    "\n",
    "$$\n",
    "\\begin{align}\n",
    "    \\hat{x} &= \\arg\\max_{x_i} f_{Y|X}(y|x_i)p(x_i)\\\\ \n",
    "     &= \\arg\\max_i p(x_i) \\cdot  \\frac{1}{\\pi N_0}e^{-\\frac{|y-x_i|^2}{N_0}}\\\\\n",
    "     &= \\arg\\max_{x_i} p(x_i) \\cdot e^{-\\frac{|y-x_i|^2}{N_0}}\\\\\n",
    "     &= \\arg\\max_{x_i}\\left[ \\ln(p(x_i)) -\\frac{|y-x_i|^2}{N_0}\\right]\\\\\n",
    "     &= \\arg\\max_{x_i}\\left[ \\frac{N_0}{2}\\ln(p(x_i)) -\\frac{1}{2}|y-x_i|^2\\right]\n",
    "\\end{align}\n",
    "$$\n",
    "\n",
    "The expression above employs a MAP estimator for an observation $y$ given the constellation values $x_i$, its probabilities $p_i$ and the channel parameter $E_0$. Observe that if the channel has noise variance $N_0=0$, the a priori probabilities are negligible and the euclidian distance is sufficient for decision. In fact, the constellation distribution becomes influent in the decision as the channel noise increases.\n",
    "\n",
    "In the specifc case of equiprobable symbols, $p(x_i) = 1/M$, the decision is called a maximum likelihood and only the euclidian distance is considered in the maximization. The detector, in this case, can be called a minimum distance detector,\n",
    "\n",
    "$$\n",
    "\\begin{equation}\n",
    "    \\hat{x}_i = \\arg\\min_{x_i}|y-x_i|^2,\n",
    "\\end{equation}\n",
    "$$\n",
    "\n",
    "and, despite not being an optimal decision rule for the general case, it is widely employed due to its simplicity. The following function implements the MAP estimator."
   ]
  },
  {
   "cell_type": "code",
   "execution_count": 1,
   "id": "9db09d0e",
   "metadata": {},
   "outputs": [],
   "source": [
    "# MAP Estimator\n",
    "\n",
    "import numpy as np\n",
    "\n",
    "def map_estimator_distance_metric(y, x_list, prob_x, N_0):\n",
    "    x = np.array(x_list)\n",
    "    px = np.array(prob_x) \n",
    "      \n",
    "    dist = np.abs(y - x)**2\n",
    "    map_func = (N_0/2)*np.log(prob_x) - dist/2\n",
    "    \n",
    "    return x[map_func.argmax()]"
   ]
  },
  {
   "cell_type": "markdown",
   "id": "6641e455",
   "metadata": {},
   "source": [
    "## Example: transmission over an AWGN channel\n",
    "\n",
    "Consider an AWGN channel with noise variance $\\sigma^2 = E_0/2$ per quadrature and an equiprobable $m$-QAM constellation ($m = n^2$)."
   ]
  },
  {
   "cell_type": "code",
   "execution_count": 2,
   "id": "081d5a90",
   "metadata": {},
   "outputs": [
    {
     "name": "stdout",
     "output_type": "stream",
     "text": [
      "Constellation symbols: [-1.-1.j  0.-1.j  1.-1.j -1.+0.j  0.+0.j  1.+0.j -1.+1.j  0.+1.j  1.+1.j]\n",
      "Constellation distribution:  [0.111 0.111 0.111 0.111 0.111 0.111 0.111 0.111 0.111]\n"
     ]
    },
    {
     "data": {
      "image/png": "[encoded data removed]",
      "text/plain": [
       "<Figure size 432x288 with 2 Axes>"
      ]
     },
     "metadata": {
      "needs_background": "light"
     },
     "output_type": "display_data"
    }
   ],
   "source": [
    "# Constellation parameters\n",
    "n = 3\n",
    "m = n**2\n",
    "# constellation points per axis\n",
    "points = np.linspace(0, n-1,num=n) - (n-1)/2\n",
    "# real and imaginary parts of the nxn array\n",
    "xv, yv = np.meshgrid(points, points)\n",
    "\n",
    "x = xv + 1j*yv\n",
    "x = x.reshape(1,-1)[0]\n",
    "p_x = list(np.ones(m)/m)\n",
    "\n",
    "print('Constellation symbols:', x)\n",
    "print('Constellation distribution: ', np.round(p_x, 3))\n",
    "import matplotlib.pyplot as plt\n",
    "plt.figure()\n",
    "plt.scatter(xv,  # x coordinates\n",
    "            yv,  # y coordinates\n",
    "            c=p_x, # probability distribution\n",
    "            cmap='jet') # constellation plot\n",
    "plt.colorbar()\n",
    "plt.tight_layout()"
   ]
  },
  {
   "cell_type": "markdown",
   "id": "23822fdc",
   "metadata": {},
   "source": [
    "In each communication round, an $i\\in\\{0,1,\\ldots, m\\}$ is chosen equiprobably and sent through the channel, resulting in an output $y = x_i + z$. The channel output is then used to estimate $\\hat{x}$"
   ]
  },
  {
   "cell_type": "code",
   "execution_count": 3,
   "id": "6f3b65dd",
   "metadata": {},
   "outputs": [
    {
     "name": "stdout",
     "output_type": "stream",
     "text": [
      "X sent: 1j\n",
      "Channel output: (-0.2056+0.7562j)\n",
      "MAP output:  1j\n"
     ]
    },
    {
     "data": {
      "image/png": "[encoded data removed]",
      "text/plain": [
       "<Figure size 432x288 with 2 Axes>"
      ]
     },
     "metadata": {
      "needs_background": "light"
     },
     "output_type": "display_data"
    }
   ],
   "source": [
    "i = np.random.randint(0,n**2) # transmitted signal index\n",
    "x_sent = x[i] # transmitted signal\n",
    "N0 = 1 # channel noise variance\n",
    "\n",
    "Z = np.random.normal # noise normal random variable\n",
    "z = Z(loc=0, scale = N0/2) + Z(loc=0, scale = N0/2)*1j # noise sample\n",
    "y = x_sent + z # channel output\n",
    "\n",
    "print('X sent:', x_sent)\n",
    "print('Channel output:', np.round(y,4))\n",
    "\n",
    "# x_hat = map_estimator(y, x, p_x, N0)\n",
    "x_hat = map_estimator_distance_metric(y, x, p_x, N0) # estimated channel input\n",
    "print('MAP output: ', x_hat)\n",
    "\n",
    "# Plot: constellation, transmitted symbol, received symbol and estimated x_i\n",
    "plt.figure()\n",
    "plt.scatter(xv,  # x coordinates\n",
    "            yv,  # y coordinates\n",
    "            c=p_x,\n",
    "            cmap='jet') # constellation plot\n",
    "\n",
    "plt.scatter(np.real(x_sent), np.imag(x_sent), c='magenta', marker='+') # symbol sent\n",
    "plt.scatter(np.real(y), np.imag(y), c='red') # signal received\n",
    "plt.scatter(np.real(x_hat), np.imag(x_hat), c='red', marker='x') # Symbol estimated\n",
    "\n",
    "plt.colorbar()\n",
    "plt.tight_layout()"
   ]
  },
  {
   "cell_type": "markdown",
   "id": "1f1fe767",
   "metadata": {},
   "source": [
    "## Decision regions\n",
    "\n",
    "Given the decision rule at detection, the complex plane has an induced partition which results on $m$ regions $D_1, \\ldots, D_m$ such that if the channel outputs $y\\in D_k$, the estimator will decide for $\\hat{x}_k$. Those regions are called the decision regions and each $D_k$ is the set of all channel outputs that are mapped to $x_k$ by the detector.\n",
    "\n",
    "In the following, we plot the decision regions boundaries for a given constellation using the MAP criterion. We consider an AWGN channel with noise variance $N_0/2$ per quadrature. As was stated before, the MAP estimation is not affected by the a priori probabilities if $N_0 = 0$. It can be seen that the channel noise modify the decision regions only in the case of non equiprobable constellations.\n",
    "\n",
    "Lets begin by redefining the constellation with equiprobable symbols."
   ]
  },
  {
   "cell_type": "code",
   "execution_count": 54,
   "id": "6b97fcb6",
   "metadata": {},
   "outputs": [],
   "source": [
    "# Constellation parameters\n",
    "n = 3\n",
    "m = n**2\n",
    "# constellation points per axis\n",
    "points = np.linspace(0, n-1,num=n) - (n-1)/2\n",
    "# real and imaginary parts of the nxn array\n",
    "xv, yv = np.meshgrid(points, points)\n",
    "\n",
    "x = xv + 1j*yv\n",
    "x = x.reshape(1,-1)[0]\n",
    "p_x = list(np.ones(m)/m)"
   ]
  },
  {
   "cell_type": "markdown",
   "id": "02f45b28",
   "metadata": {},
   "source": [
    "In the following, we show a function that plots the decision regions for a given constellation and probability distribution. The function works as follows. \n",
    "\n",
    "The functions creates a dense grid of points in the complex plane, each point to be estimated with map_estimator_distance_metric(), forming a decision region to each constellation symbol. Next, the MAP estimator is used to each point in the grid, resulting on the partition of the constellation regions. Then, by associating each grid point with the respective MAP estimatives, it plots the decision regions."
   ]
  },
  {
   "cell_type": "code",
   "execution_count": 55,
   "id": "513f7fe8",
   "metadata": {},
   "outputs": [],
   "source": [
    "def DecisionRegions(const, probs, N0, mash_factor=100):\n",
    "    \n",
    "    import shapely.geometry as geometry\n",
    "    \n",
    "    delta = (np.real(x).max() - np.real(x).min())/((np.sqrt(x.size)-1)*2)\n",
    "    const_max = np.max(np.real(x))\n",
    "    const_min = np.min(np.real(x))\n",
    "    grid_max = const_max + delta\n",
    "    grid_min = const_min - delta\n",
    "\n",
    "    mesh = n*mash_factor\n",
    "    xx, yy = np.meshgrid(np.linspace(grid_min,grid_max, mesh), np.linspace(grid_min,grid_max, mesh))\n",
    "    \n",
    "    grid = []\n",
    "    for i in np.arange(mesh):\n",
    "        for j in np.arange(mesh):\n",
    "            to_class = xx[i,j] + 1j*yy[i,j]\n",
    "\n",
    "            grid += [to_class, map_estimator_distance_metric(to_class, x, p_x, N0)]\n",
    "\n",
    "    grid = np.array(grid).reshape(-1,2)\n",
    "    \n",
    "    plt.figure()\n",
    "    #plt.scatter(np.real(x), np.imag(x))\n",
    "    for i in np.arange(x.size): # The first loop will run on the constellation points\n",
    "        cont = np.array([], dtype = complex) # stores the grid points estimated as the constellation symbol x_i\n",
    "\n",
    "        for j in np.arange(grid.shape[0]):\n",
    "            if grid[j,1] == x[i]:  \n",
    "                cont = np.append(cont, grid[j,0])\n",
    "\n",
    "        # avoids constellation points without associated grid points (an exception security measure)\n",
    "        if np.size(cont) != 0: \n",
    "\n",
    "            # real and imaginary parts of the grid points associated with the symbol x_i\n",
    "            cont_x = np.real(cont)\n",
    "            cont_y = np.imag(cont)\n",
    "            # convert the list of grid points associated with the symbol x_i into a list of touples.\n",
    "            # this format is necessary to use the function in the shapely package\n",
    "            points = [(cont_x[i], cont_y[i]) for i in np.arange(cont.size)]\n",
    "\n",
    "            # shapely.geometry.Multipoint helps to get the boundary of the convex hull of the points of cont.\n",
    "            # the convex hull of the points in the variable cont is exactly the decision region for the symbol x_i\n",
    "            Points = geometry.MultiPoint(points) # set of points\n",
    "            boundary = Points.convex_hull.boundary # Points of 'cont' forming the boundary of its convex hull\n",
    "            # adjust the boundary points for ploting\n",
    "            region_coords = list(boundary.coords)\n",
    "            a = [region_coords[i][0] for i in np.arange(np.shape(region_coords)[0])]\n",
    "            b = [region_coords[i][1] for i in np.arange(np.shape(region_coords)[0])]\n",
    "            plt.plot(a, b,'k')\n",
    "    plt.scatter(np.real(x), np.imag(x), c = p_x, cmap='jet')\n",
    "    plt.colorbar()\n",
    "    plt.tight_layout()"
   ]
  },
  {
   "cell_type": "markdown",
   "id": "41f411c5",
   "metadata": {},
   "source": [
    "Applying DecisionRegions() to the constellation defined above, we get the result:"
   ]
  },
  {
   "cell_type": "code",
   "execution_count": 56,
   "id": "f4c00196",
   "metadata": {},
   "outputs": [
    {
     "data": {
      "image/png": "[encoded data removed]",
      "text/plain": [
       "<Figure size 432x288 with 2 Axes>"
      ]
     },
     "metadata": {
      "needs_background": "light"
     },
     "output_type": "display_data"
    }
   ],
   "source": [
    "N0 = 1\n",
    "DecisionRegions(x, p_x, N0)"
   ]
  },
  {
   "cell_type": "markdown",
   "id": "b4b1785a",
   "metadata": {},
   "source": [
    "It can be verifyed that the value of $N_0$ does not modify the regions. \n",
    "\n",
    "Now, lets consider the following non equiprobable constellation:"
   ]
  },
  {
   "cell_type": "code",
   "execution_count": 57,
   "id": "59c64c8f",
   "metadata": {},
   "outputs": [],
   "source": [
    "x = np.array([-1-1j, -1, -1+1j,  -1j,  0,  1j, 1-1j, 1,  1+1j]).reshape(1,-1)[0]\n",
    "p_x = np.array([0.0625, 0.125 , 0.0625, 0.125 , 0.25  , 0.125 , 0.0625, 0.125 , 0.0625]).reshape(1,-1)[0]"
   ]
  },
  {
   "cell_type": "code",
   "execution_count": 58,
   "id": "a3185111",
   "metadata": {},
   "outputs": [
    {
     "data": {
      "image/png": "[encoded data removed]",
      "text/plain": [
       "<Figure size 432x288 with 2 Axes>"
      ]
     },
     "metadata": {
      "needs_background": "light"
     },
     "output_type": "display_data"
    }
   ],
   "source": [
    "N0 = 0.5\n",
    "DecisionRegions(x, p_x, N0)"
   ]
  },
  {
   "cell_type": "markdown",
   "id": "10c0609a",
   "metadata": {},
   "source": [
    "By changing the value of $N_0$, the decision regions are modifyed due to an amplification effect on the contribution of the a priori probabilities on the MAP estimator."
   ]
  },
  {
   "cell_type": "code",
   "execution_count": null,
   "id": "fa14b00d",
   "metadata": {},
   "outputs": [],
   "source": []
  }
 ],
 "metadata": {
  "kernelspec": {
   "display_name": "Python 3 (ipykernel)",
   "language": "python",
   "name": "python3"
  },
  "language_info": {
   "codemirror_mode": {
    "name": "ipython",
    "version": 3
   },
   "file_extension": ".py",
   "mimetype": "text/x-python",
   "name": "python",
   "nbconvert_exporter": "python",
   "pygments_lexer": "ipython3",
   "version": "3.10.4"
  }
 },
 "nbformat": 4,
 "nbformat_minor": 5
}
